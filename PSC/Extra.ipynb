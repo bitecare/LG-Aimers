{
 "cells": [
  {
   "cell_type": "markdown",
   "id": "talented-cliff",
   "metadata": {},
   "source": [
    "# OS\n",
    "- ubuntu\n",
    "- Intel i9 10900\n",
    "- NVIDIA GeForce RTX 3080\n",
    "- Memory 64GB"
   ]
  },
  {
   "cell_type": "markdown",
   "id": "overall-needle",
   "metadata": {},
   "source": [
    "## Import"
   ]
  },
  {
   "cell_type": "code",
   "execution_count": 1,
   "id": "indie-gross",
   "metadata": {},
   "outputs": [],
   "source": [
    "import pandas as pd\n",
    "from tqdm.auto import tqdm\n",
    "import numpy as np\n",
    "\n",
    "import warnings\n",
    "warnings.filterwarnings(action = 'ignore')\n",
    "\n",
    "from sklearn.preprocessing import LabelEncoder\n",
    "from sklearn.model_selection import train_test_split\n",
    "from sklearn.metrics import mean_squared_error\n",
    "from sklearn.ensemble import RandomForestRegressor\n",
    "from sklearn.ensemble import ExtraTreesRegressor\n",
    "from xgboost import XGBRegressor"
   ]
  },
  {
   "cell_type": "markdown",
   "id": "dated-gothic",
   "metadata": {},
   "source": [
    "## Data Load"
   ]
  },
  {
   "cell_type": "code",
   "execution_count": 21,
   "id": "involved-hepatitis",
   "metadata": {},
   "outputs": [],
   "source": [
    "train = pd.read_csv(\"../DAT/melt_data60.csv\") # 모델 사용 형태에 맞게 정제된 데이터 불러오기"
   ]
  },
  {
   "cell_type": "markdown",
   "id": "unknown-medicare",
   "metadata": {},
   "source": [
    "## Preprocessing"
   ]
  },
  {
   "cell_type": "code",
   "execution_count": 23,
   "id": "external-congress",
   "metadata": {},
   "outputs": [],
   "source": [
    "#필요하지 않은 칼럼 제거\n",
    "train = train.drop([\"제품\", \"대분류\", \"중분류\", \"소분류\", \"브랜드\"], axis=1)\n",
    "\n",
    "#label encoding 적용\n",
    "\n",
    "lists = [\"Weekday\", \"주말여부\", \"공휴일여부\", \"휴일여부\"]\n",
    "\n",
    "le = LabelEncoder()\n",
    "\n",
    "for i in lists:\n",
    "    train[i] = le.fit_transform(train[i])"
   ]
  },
  {
   "cell_type": "code",
   "execution_count": 24,
   "id": "northern-civilian",
   "metadata": {},
   "outputs": [],
   "source": [
    "#target 생성\n",
    "train[\"COUNTS+1\"] = train[\"COUNT\"].shift(periods=-1) \n",
    "\n",
    "#train데이터와 test데이터셋 만들기\n",
    "test = train[(train[\"Year\"] == 2023) & (train[\"Month\"] == 4) & (train[\"Day\"] == 4)]\n",
    "train = train[~((train[\"Year\"] == 2023) & (train[\"Month\"] == 4) & (train[\"Day\"] == 4))]"
   ]
  },
  {
   "cell_type": "code",
   "execution_count": 27,
   "id": "thousand-royalty",
   "metadata": {},
   "outputs": [],
   "source": [
    "#count_0 칼럼이랑 중복되는 칼럼이기에 제거\n",
    "\n",
    "train = train.drop(\"COUNT\", axis=1)\n",
    "test = test.drop(\"COUNT\", axis=1)"
   ]
  },
  {
   "cell_type": "code",
   "execution_count": 28,
   "id": "strategic-myanmar",
   "metadata": {},
   "outputs": [],
   "source": [
    "#train validation 구분\n",
    "\n",
    "x_tr, x_val, y_tr, y_val = train_test_split(train.drop(\"COUNTS+1\", axis=1), train[\"COUNTS+1\"], test_size = 0.2, shuffle = True, random_state = 56 , stratify = train[\"ID\"])"
   ]
  },
  {
   "cell_type": "code",
   "execution_count": 29,
   "id": "popular-shuttle",
   "metadata": {
    "scrolled": true
   },
   "outputs": [],
   "source": [
    "#test 데이터에는 필요없는 칼럼이므로 제거\n",
    "\n",
    "test = test.drop(\"COUNTS+1\", axis=1)"
   ]
  },
  {
   "cell_type": "markdown",
   "id": "annoying-rating",
   "metadata": {},
   "source": [
    "## Run!!"
   ]
  },
  {
   "cell_type": "code",
   "execution_count": null,
   "id": "sharp-disposal",
   "metadata": {},
   "outputs": [],
   "source": [
    "weekend_list = [8,9,15,16,22,23] #주말여부와 휴일여부를 체크할 리스트\n",
    "errors = []\n",
    "answer = pd.DataFrame(columns = ['ID'] + [f'2023-04-{i+5:02d}' for i in range(21)]) #4월 5일부터 4월 25일까지의 칼럼 생성\n",
    "\n",
    "\n",
    "for i in tqdm(range(len(train[\"ID\"].unique()))) : #각 id별로 학습\n",
    "    x_tr_ml = x_tr[x_tr[\"ID\"] == i]\n",
    "    x_val_ml = x_val[x_val[\"ID\"] == i]\n",
    "    y_tr_ml = y_tr[x_tr[\"ID\"] == i]\n",
    "    y_val_ml = y_val[x_val[\"ID\"] == i]\n",
    "    \n",
    "    model = ExtraTreesRegressor(n_estimators = 200,\n",
    "                         random_state = 41)\n",
    "    model.fit(x_tr_ml, y_tr_ml)\n",
    "    pred = model.predict(x_val_ml)\n",
    "    error = mean_squared_error(pred, y_val_ml, squared=False)\n",
    "    errors.append(error)\n",
    "    \n",
    "    answer.loc[i] = i\n",
    "    \n",
    "    test_ml = test[test[\"ID\"] == i]\n",
    "    \n",
    "    #4월 5일의 판매량을 4월 4일부터 이전 60일데이터로 예측. 이후 4월 6일의 판매량을 예측했던 4월 5일 데이터와 이전 60일 데이터로 예측\n",
    "    #이를 반복하여 총 21일치를 예측한다\n",
    "    \n",
    "    for j in range(21) : \n",
    "        ans = model.predict(test_ml)\n",
    "        test_ml.iloc[0, 8:] = test_ml.iloc[0, 8:].shift(1)\n",
    "        test_ml.iloc[0, 8] = ans\n",
    "        \n",
    "        test_ml.iloc[0, 3] = 5+j #예측에 사용한 day에 맞는 수로 바꿔주기\n",
    "        \n",
    "        if test_ml.iloc[0,3] in (weekend_list) : #주말 휴일\n",
    "            test_ml.iloc[0,5] = 1\n",
    "            test_ml.iloc[0,7] = 1\n",
    "        else :\n",
    "            test_ml.iloc[0,5] = 0\n",
    "            test_ml.iloc[0,7] = 0\n",
    "        \n",
    "        test_ml.iloc[0, 4] = (test_ml.iloc[0,3] - 3) % 7 #weekand\n",
    "        answer.iloc[i, j+1] = float(ans)\n",
    "        \n",
    "\n",
    "print(np.mean(errors))\n"
   ]
  },
  {
   "cell_type": "markdown",
   "id": "fifth-integral",
   "metadata": {},
   "source": [
    "## Save"
   ]
  },
  {
   "cell_type": "code",
   "execution_count": null,
   "id": "continued-bradford",
   "metadata": {},
   "outputs": [],
   "source": [
    "answer.to_csv(\"../OUT/ExtraResult.csv\", index=False)"
   ]
  }
 ],
 "metadata": {
  "kernelspec": {
   "display_name": "Python 3",
   "language": "python",
   "name": "python3"
  },
  "language_info": {
   "codemirror_mode": {
    "name": "ipython",
    "version": 3
   },
   "file_extension": ".py",
   "mimetype": "text/x-python",
   "name": "python",
   "nbconvert_exporter": "python",
   "pygments_lexer": "ipython3",
   "version": "3.7.10"
  }
 },
 "nbformat": 4,
 "nbformat_minor": 5
}
